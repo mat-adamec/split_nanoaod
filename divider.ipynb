{
 "cells": [
  {
   "cell_type": "code",
   "execution_count": 17,
   "id": "bef73d45-b209-4c3c-93ba-19b1693d3204",
   "metadata": {},
   "outputs": [],
   "source": [
    "# We want to divide our list of keys into two groups. We want to constraint keys based on their top-most collection(?).\n",
    "# Let's first organize our keys based on their top-most collection's size, then construct two groups by starting from\n",
    "# the largest groups of our sorted list (as this will give us the most equal-sized subdivision)."
   ]
  },
  {
   "cell_type": "code",
   "execution_count": 52,
   "id": "9d3780c5-4a00-496d-bd9a-ad7323751558",
   "metadata": {},
   "outputs": [],
   "source": [
    "import math\n",
    "\n",
    "def divide(file):\n",
    "    # Count each collection.\n",
    "    remains = file['Events'].keys()\n",
    "    tops = {}\n",
    "    for current in remains:\n",
    "        top_key = current.partition('_')[0]\n",
    "        if top_key in tops:\n",
    "            tops[top_key] += 1\n",
    "        else:\n",
    "            tops[top_key] = 1\n",
    "    # Sort our tops by the amount of times they came up.\n",
    "    tops = sorted(tops.items(), key=lambda x:x[1])\n",
    "    # Build our subdivided keys.\n",
    "    one_tops = []\n",
    "    one_weight = 0\n",
    "    two_tops = []\n",
    "    two_weight = 0\n",
    "    for i in range(len(tops)-1, 0, -1):\n",
    "        if one_weight < two_weight:\n",
    "            one_tops.append(tops[i][0])\n",
    "            one_weight += tops[i][1]\n",
    "        else:\n",
    "            two_tops.append(tops[i][0])\n",
    "            two_weight += tops[i][1]\n",
    "    # Build our two lists from our keys.\n",
    "    one = []\n",
    "    two = []\n",
    "    for current in remains:\n",
    "        top_key = current.partition('_')[0]\n",
    "        if top_key in one_tops:\n",
    "            one.append(current)\n",
    "        else:\n",
    "            two.append(current)\n",
    "    return one, two"
   ]
  },
  {
   "cell_type": "code",
   "execution_count": 53,
   "id": "6369628c-3456-4efd-95d4-dab335035f38",
   "metadata": {},
   "outputs": [],
   "source": [
    "file = uproot.open('root://xcache//store/mc/RunIISummer16NanoAODv5/THQ_Hincl_13TeV-madgraph-pythia8_TuneCUETP8M1/NANOAODSIM/PUMoriond17_Nano1June2019_102X_mcRun2_asymptotic_v7-v1/100000/38E83594-51BD-7D46-B96D-620DD60078A7.root')\n",
    "one, two = divide(file)"
   ]
  },
  {
   "cell_type": "code",
   "execution_count": null,
   "id": "18c49195-7f70-47a8-9459-d2bf2d85e105",
   "metadata": {},
   "outputs": [],
   "source": []
  }
 ],
 "metadata": {
  "kernelspec": {
   "display_name": "Python 3 (ipykernel)",
   "language": "python",
   "name": "python3"
  },
  "language_info": {
   "codemirror_mode": {
    "name": "ipython",
    "version": 3
   },
   "file_extension": ".py",
   "mimetype": "text/x-python",
   "name": "python",
   "nbconvert_exporter": "python",
   "pygments_lexer": "ipython3",
   "version": "3.8.12"
  }
 },
 "nbformat": 4,
 "nbformat_minor": 5
}
